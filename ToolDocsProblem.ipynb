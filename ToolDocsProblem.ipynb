{
 "cells": [
  {
   "cell_type": "markdown",
   "metadata": {},
   "source": [
    "# LangChain и проблема документации\n",
    "\n",
    "Представим, что я являюсь разработчиком и хочу предоставить пользователю возможность интегрировать популярный инструмент в своего LLM-агента. Конечно, мне придётся взаимодействовь с *LangChain*, так как этот фреймворк объединяет наибольшее количество поставщиков API и не имеет аналогов. С какими трудностями я столкнусь?\n",
    "\n",
    "\n",
    "- **Страница документации LangChain о предложенных интеграциях:** [LangChain Integrations](https://python.langchain.com/docs/integrations/tools/)\n",
    "\n",
    "Сначала всё выглядит замечательно, и таблицы достаточно информативны для разработчика, чтобы понять условия использования инструмента\n",
    "\n",
    "<details>\n",
    "\n",
    "![tool1.png](image/tool1.png)\n",
    "\n",
    "</details>\n",
    "\n",
    "Когда дело доходит до отображения всех инструментов, всё начинает ломаться: нужно переходить на страницу каждого инструмента, затем на сайт платформы, предоставляющей API, и часто только после регистрации становится ясно, нужна ли подписка или доступен ли сервис в вашем регионе. И это только начало проблем. Представьте себе объём работы, который разработчику придётся проделать только в самом начале.\n",
    "\n",
    "![tool2_1.png](image/tool2_1.png)\n",
    "![tool2_2.png](image/tool2_2.png)\n",
    "\n",
    "В LangChain есть хороший пример шаблонного кода в [документации](https://python.langchain.com/docs/tutorials/agents): здесь я меняю поставщика API, и меняется только часть имени основной переменной, без необходимости дополнительной обработки в коде. Но, как и всегда, не обойтись без недостатков... По-прежнему нужно проверять доступность в разных регионах, отсутствие подписок и других ограничений.\n",
    "\n",
    "<details>\n",
    "\n",
    "![tool3_1.png](image/tool3_1.png)\n",
    "![tool3_2.png](image/tool3_2.png)\n",
    "\n",
    "</details>  \n",
    "  \n",
    "Более того, на главной странице утверждается, что разработка происходит из блоков. Однако на самом деле работа с LangChain характеризуется низким КПД, так как разработчику нужно отдельно исследовать **каждый** кирпичик.\n",
    "\n",
    "<details>\n",
    "\n",
    "* **link:** https://python.langchain.com/docs/introduction/\n",
    "\n",
    "![tool4.png](image/tool4.png)\n",
    "\n",
    "</details>\n",
    "\n",
    "Я не отрицаю, что синтаксис интеграции утилит одинаковый, но 60% случаев — это далеко не шаблонные решения из-за особенностей различных инструментов. Я заметил, что есть отдельный тип интеграции, где необходимо самостоятельно подмешивать полученные данные в агент (например, с инструментом поисковика DuckDuckGO). Это всё можно было бы удобно собрать в таблице: шаблоны, источники ключей, дополнительные строки, информация о подписке и регионах, где сервис не работает. Вместо этого приходится обращаться к сторонним ресурсам, где через какое-то время узнаёшь о работоспособности **только** с проприетарными моделями от OpenAI, а также о том, что на некоторых операционных системах требуется дополнительное программное обеспечение и многое другое."
   ]
  },
  {
   "cell_type": "markdown",
   "metadata": {},
   "source": [
    "## Отказ от сторонних источников\n",
    "* Вот минималистичный и понятный вариант документации инсутрмента на примере AskNews прошу сравнить его с оригинальной [документацией](https://python.langchain.com/docs/integrations/tools/asknews/) от LangChain.\n",
    "1. Работает на всех OS и требует дополнительного ПО - ✅\n",
    "2. Полностью бесплатен - ✅\n",
    "3. Работает во всех регионах - ✅\n",
    "4. Работает со всеми моделями - ✅"
   ]
  },
  {
   "cell_type": "markdown",
   "metadata": {},
   "source": [
    "### Инициализация обращения к модели"
   ]
  },
  {
   "attachments": {
    "02fcd8d1-8141-4e5d-ae5a-08c9f9ed872b.png": {
     "image/png": "[encoded data removed]"
    }
   },
   "cell_type": "markdown",
   "metadata": {},
   "source": [
    "конечно же с поправкой на... <details> ![image.png](attachment:02fcd8d1-8141-4e5d-ae5a-08c9f9ed872b.png) </details> "
   ]
  },
  {
   "cell_type": "code",
   "execution_count": 1,
   "metadata": {},
   "outputs": [],
   "source": [
    "import os\n",
    "os.environ[\"FIREWORKS_API_KEY\"] = \"XXXXXXX\"\n",
    "\n",
    "from langchain_fireworks import ChatFireworks\n",
    "\n",
    "llm = ChatFireworks(\n",
    "    model=\"accounts/fireworks/models/llama-v3-70b-instruct\",\n",
    "    temperature=0,\n",
    "    max_tokens=None,\n",
    "    timeout=None,\n",
    "    max_retries=2,\n",
    ")"
   ]
  },
  {
   "cell_type": "markdown",
   "metadata": {},
   "source": [
    "### Install"
   ]
  },
  {
   "cell_type": "code",
   "execution_count": null,
   "metadata": {
    "vscode": {
     "languageId": "powershell"
    }
   },
   "outputs": [],
   "source": [
    "!pip install -U langchain-community asknews\n",
    "!pip install -U langchain-openai langchainhub"
   ]
  },
  {
   "cell_type": "markdown",
   "metadata": {},
   "source": [
    "### Input API\n",
    "##### Необходимо задать учетные данные API AskNews, которые можно получить в консоли AskNews. (https://my.asknews.app/)"
   ]
  },
  {
   "cell_type": "code",
   "execution_count": 4,
   "metadata": {},
   "outputs": [],
   "source": [
    "import os\n",
    "os.environ[\"ASKNEWS_CLIENT_ID\"] = \"XXXXXXX\"\n",
    "os.environ[\"ASKNEWS_CLIENT_SECRET\"] = \"XXXXXXX\""
   ]
  },
  {
   "cell_type": "markdown",
   "metadata": {},
   "source": [
    "### Run"
   ]
  },
  {
   "cell_type": "markdown",
   "metadata": {},
   "source": [
    "#### Вариант с использованием заготовленных системных промтов через LangSmith/hub (https://smith.langchain.com/hub/hwchase17/openai-functions-agent)"
   ]
  },
  {
   "cell_type": "code",
   "execution_count": null,
   "metadata": {},
   "outputs": [],
   "source": [
    "from langchain import hub\n",
    "from langchain.agents import AgentExecutor, create_openai_functions_agent\n",
    "from langchain_community.tools.asknews import AskNewsSearch\n",
    "\n",
    "prompt = hub.pull(\"hwchase17/openai-functions-agent\")\n",
    "\n",
    "asknews_tool = AskNewsSearch()\n",
    "tools = [asknews_tool]\n",
    "\n",
    "agent = create_openai_functions_agent(llm, tools, prompt)\n",
    "agent_executor = AgentExecutor(agent=agent, tools=tools)\n",
    "agent_executor.invoke({\"input\": \"tell us about the news in the field of llm\"})"
   ]
  },
  {
   "cell_type": "markdown",
   "metadata": {},
   "source": [
    "#### Вариант с использованием собственного системного промта"
   ]
  },
  {
   "cell_type": "code",
   "execution_count": null,
   "metadata": {
    "scrolled": true
   },
   "outputs": [],
   "source": [
    "from langchain.agents import AgentExecutor, create_openai_functions_agent\n",
    "from langchain_community.tools.asknews import AskNewsSearch\n",
    "from langchain_core.prompts import ChatPromptTemplate\n",
    "\n",
    "prompt = ChatPromptTemplate.from_messages([\n",
    "  (\"system\", \"your role is a fan of the langchain framework\"),\n",
    "  (\"placeholder\", \"{chat_history}\"),\n",
    "  (\"human\", \"{input}\"),\n",
    "  (\"placeholder\", \"{agent_scratchpad}\"),\n",
    "])\n",
    "\n",
    "asknews_tool = AskNewsSearch()\n",
    "tools = [asknews_tool]\n",
    "\n",
    "agent = create_openai_functions_agent(llm, tools, prompt)\n",
    "agent_executor = AgentExecutor(agent=agent, tools=tools)\n",
    "agent_executor.invoke({\"input\": \"tell us about the news in the field of llm\"})"
   ]
  },
  {
   "cell_type": "markdown",
   "metadata": {},
   "source": [
    "### Additionally\n",
    "#### Использование инструмента напрямую"
   ]
  },
  {
   "cell_type": "code",
   "execution_count": null,
   "metadata": {},
   "outputs": [],
   "source": [
    "from langchain_community.tools.asknews import AskNewsSearch\n",
    "\n",
    "tool = AskNewsSearch(max_results=2)\n",
    "tool.invoke({\"query\": \"the fight against entropy\"})"
   ]
  },
  {
   "cell_type": "markdown",
   "metadata": {},
   "source": [
    "# Бесшовная организация информации\n",
    "* Теперь разработчику не нужно искать дополнительную информацию на сторонних источниках – остается просто запросить API-ключ у поставщика инструмента. Однако по-прежнему требуется обработать 98 таких страниц. Как можно еще лучше организовать информацию?"
   ]
  },
  {
   "cell_type": "markdown",
   "metadata": {},
   "source": [
    "| Tool    | Cross-platform | Free | for all models | for all regions |\r\n",
    "|:-------:|:--------------:|:----:|:--------------:|:---------------:|\r\n",
    "| AskNews | ✅              | ✅    | ✅              | ✅              |\r\n",
    "|\r\n",
    "|   |   |\r\n"
   ]
  },
  {
   "cell_type": "markdown",
   "metadata": {},
   "source": [
    "| Install                                                                                      | Input API                                                                                                   | Launch with LangSmith/hub                                                                                                                                                                                                                                                                                                                                                                                                                                                                                         | Launch with your prompt                                                                                                                                                                                                                                                                                                                                                                                                                                                                                                                                                                                                                                                                                                    | API provider            |\r\n",
    "|----------------------------------------------------------------------------------------------|-------------------------------------------------------------------------------------------------------------|-------------------------------------------------------------------------------------------------------------------------------------------------------------------------------------------------------------------------------------------------------------------------------------------------------------------------------------------------------------------------------------------------------------------------------------------------------------------------------------------------------------------|----------------------------------------------------------------------------------------------------------------------------------------------------------------------------------------------------------------------------------------------------------------------------------------------------------------------------------------------------------------------------------------------------------------------------------------------------------------------------------------------------------------------------------------------------------------------------------------------------------------------------------------------------------------------------------------------------------------------------|-------------------------|\r\n",
    "| !pip install -U langchain-community asknews<br>!pip install -U langchain-openai langchainhub | import os<br>os.environ[\"ASKNEWS_CLIENT_ID\"] = \"XXXXXXX\"<br>os.environ[\"ASKNEWS_CLIENT_SECRET\"] = \"XXXXXXX\" | from langchain import hub<br>from langchain.agents import AgentExecutor, create_openai_functions_agent<br>from langchain_community.tools.asknews import AskNewsSearch<br><br>prompt = hub.pull(\"hwchase17/openai-functions-agent\")<br><br>asknews_tool = AskNewsSearch()<br>tools = [asknews_tool]<br><br>agent = create_openai_functions_agent(llm, tools, prompt)<br>agent_executor = AgentExecutor(agent=agent, tools=tools)<br>agent_executor.invoke({\"input\": \"tell us about the news in the field of llm\"}) | from langchain.agents import AgentExecutor, create_openai_functions_agent<br>from langchain_community.tools.asknews import AskNewsSearch<br>from langchain_core.prompts import ChatPromptTemplate<br><br>prompt = ChatPromptTemplate.from_messages([<br>  (\"system\", \"your role is a fan of the langchain framework\"),<br>  (\"placeholder\", \"{chat_history}\"),<br>  (\"human\", \"{input}\"),<br>  (\"placeholder\", \"{agent_scratchpad}\"),<br>])<br><br>asknews_tool = AskNewsSearch()<br>tools = [asknews_tool]<br><br>agent = create_openai_functions_agent(llm, tools, prompt)<br>agent_executor = AgentExecutor(agent=agent, tools=tools)<br>agent_executor.invoke({\"input\": \"tell us about the news in the field of llm\"}) | https://my.asknews.app/ |\r\n",
    "|\r\n",
    "|\r\n",
    "|\r\n"
   ]
  },
  {
   "cell_type": "markdown",
   "metadata": {},
   "source": [
    "Конечно, оформление должно быть немного другим (перенос строк, подсветка синтаксиса и т.д.), но это максимум, который позволяет Markdown.\n",
    "Предлагаю расположить таблицы так, чтобы разработчик мог задать фильтры в первой таблице (как выпадающее окно в Excel) и сразу увидеть инструменты, соответствующие его параметрам, во второй.\n",
    "\n",
    "![Excel-Column-Filter-Example.png](image/Excel-Column-Filter-Example.png)"
   ]
  }
 ],
 "metadata": {
  "kernelspec": {
   "display_name": "Python 3 (ipykernel)",
   "language": "python",
   "name": "python3"
  },
  "language_info": {
   "codemirror_mode": {
    "name": "ipython",
    "version": 3
   },
   "file_extension": ".py",
   "mimetype": "text/x-python",
   "name": "python",
   "nbconvert_exporter": "python",
   "pygments_lexer": "ipython3",
   "version": "3.11.9"
  }
 },
 "nbformat": 4,
 "nbformat_minor": 4
}
